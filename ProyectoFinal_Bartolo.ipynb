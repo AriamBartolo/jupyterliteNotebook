{
  "metadata": {
    "kernelspec": {
      "name": "python",
      "display_name": "Python (Pyodide)",
      "language": "python"
    },
    "language_info": {
      "codemirror_mode": {
        "name": "python",
        "version": 3
      },
      "file_extension": ".py",
      "mimetype": "text/x-python",
      "name": "python",
      "nbconvert_exporter": "python",
      "pygments_lexer": "ipython3",
      "version": "3.8"
    }
  },
  "nbformat_minor": 4,
  "nbformat": 4,
  "cells": [
    {
      "cell_type": "markdown",
      "source": "# Proyectofinal_Bartolo",
      "metadata": {}
    },
    {
      "cell_type": "markdown",
      "source": "exercise 2 - Create a markdown cell with the notebook title\n## Title\nProyectoFinal_Bartolo",
      "metadata": {
        "jupyter": {
          "source_hidden": true
        },
        "jp-MarkdownHeadingCollapsed": true
      }
    },
    {
      "cell_type": "markdown",
      "source": "exercise 3 - Create a markdown cell for an introduction\n## INTRODUCTION\nPython is a general-purpose, interpreted, high-level programming language that is known for its simplicity and readability. It was created by Guido van Rossum and its first version was released in 1991. Since then, it has gained enormous popularity due to its ease of use and wide range of applications, from web development to data science.",
      "metadata": {
        "jupyter": {
          "source_hidden": true
        },
        "jp-MarkdownHeadingCollapsed": true
      }
    },
    {
      "cell_type": "markdown",
      "source": "Exercise 4 – Create a markdown cell to list data science languages.\n## Data science languages\n1. Python\n2. SQL\n3. Java\n4. C/C++\n5. Matlab\n6. SAS\n7. R",
      "metadata": {
        "jupyter": {
          "source_hidden": true
        }
      }
    },
    {
      "cell_type": "markdown",
      "source": "Exercise 5 - Create a markdown cell to list data science libraries\n## Data Science Libraries in Python\n\nBelow is a list of popular libraries used in data science with Python:\n\n### Data Manipulation and Analysis\n- **pandas**: Provides high-performance, easy-to-use data structures and data analysis tools.\n- **NumPy**: Support for large arrays and multidimensional arrays along with a collection of high-level mathematical functions to operate on these arrays.\n\n### Scientific and Technical Computing\n- **SciPy**: Library of mathematical, scientific and engineering functions.\n- **SymPy**: Library for symbolic calculations.\n\n### Machine Learning\n- **scikit-learn**: Simple and efficient tools for data analysis and data mining.\n- **XGBoost**: Optimized implementation of gradient boosting algorithms.\n- **LightGBM**: Fast, distributed machine learning library based on gradient boosting algorithms.\n- **TensorFlow**: Open source framework for machine learning.\n- **PyTorch**: Machine learning library based on Torch.\n\n### Data Visualization\n- **matplotlib**: 2D plotting library that produces publication quality figures.\n- **seaborn**: Matplotlib-based library that provides a high-level interface for drawing attractive and informative statistical graphs.\n- **Plotly**: Library to create interactive and dynamic graphs.\n\n### Big Data Analysis\n- **Dask**: Flexible parallel computing for data analysis.\n- **PySpark**: Python interface for Apache Spark.\n\n### Data Management\n- **SQLAlchemy**: SQL and ORM (Object-Relational Mapping) Toolkit for Python.\n- **PyODBC**: Library to connect Python with ODBC (Open Database Connectivity) databases.\n\n### Data treatment\n- **Beautiful Soup**: Library to extract data from HTML and XML files.\n- **Scrapy**: Framework for web scraping.",
      "metadata": {
        "jupyter": {
          "source_hidden": true
        }
      }
    },
    {
      "cell_type": "markdown",
      "source": "Exercise 6 - Create a markdown cell with a Data Science tools table\n## Herramientas de Ciencia de Datos\n\n| Category                   | Tool             | Description                                                                 |\n|----------------------------|------------------|-----------------------------------------------------------------------------|\n| Data Manipulation          | pandas           | Data structures and high-performance data analysis tools                    |\n|                            | NumPy            | Support for large arrays and high-level mathematical functions              |\n| Scientific Computing       | SciPy            | Mathematical, scientific, and engineering functions                         |\n|                            | SymPy            | Symbolic computation                                                        |\n| Machine Learning           | scikit-learn     | Simple and efficient tools for data analysis and mining                     |\n|                            | XGBoost          | Optimized implementation of gradient boosting                               |\n|                            | LightGBM         | Fast and distributed library based on gradient boosting                     |\n|                            | TensorFlow       | Open-source framework for machine learning                                  |\n|                            | PyTorch          | Machine learning library based on Torch                                     |\n| Data Visualization         | matplotlib       | 2D plotting library for publication-quality figures                         |\n|                            | seaborn          | High-level interface for statistical graphics based on matplotlib           |\n|                            | Plotly           | Library for interactive and dynamic graphics                                |\n| Big Data Analysis          | Dask             | Flexible parallel computing for data analysis                               |\n|                            | PySpark          | Python interface for Apache Spark                                           |\n| Data Handling              | SQLAlchemy       | SQL toolkit and Object-Relational Mapping for Python                        |\n|                            | PyODBC           | Python connection to ODBC databases                                         |\n| Data Processing            | Beautiful Soup   | Data extraction from HTML and XML files                                     |\n|                            | Scrapy           | Framework for web scraping                                                  |\n",
      "metadata": {
        "jupyter": {
          "source_hidden": true
        }
      }
    },
    {
      "cell_type": "markdown",
      "source": "Exercise 7 - Create a markdown cell by entering examples of arithmetic expressions\n## Examples of Arithmetic Expressions\n\n### Addition\na = 10\nb = 5\nsum = a + b\nprint(\"The sum of\", a, \"and\", b, \"is:\", sum)\n\n### Subtraction\na = 10\nb = 5\nsubtraction = a - b\nprint(\"The subtraction of\", a, \"and\", b, \"is:\", subtraction)\n\n### Multiplication\na = 10\nb = 5\nmultiplication = a * b\nprint(\"The multiplication of\", a, \"and\", b, \"is:\", multiplication)\n\n### Division\na = 10\nb = 5\ndivision = a/b\nprint(\"The division of\", a, \"between\", b, \"is:\", division)\n\n### Power\na = 2\nb = 3\npower = a ** b\nprint(a, \"raised to the power of\", b, \"is:\", power)\n\n### Module\na = 10\nb = 3\nmodule = a % b\nprint(\"The module of\", a, \"between\", b, \"is:\", module)\n\n",
      "metadata": {
        "jupyter": {
          "source_hidden": true
        }
      }
    },
    {
      "cell_type": "code",
      "source": "#Exercise 8 - Create a code cell to multiply and add numbers\n# Define the numbers\na = 10\nb = 6\n\n# Multiplication\nmultiplication = a * b\nprint(\"The multiplication of\", a, \"and\", b, \"is:\", multiplication)\n\n# Addition\nsum = a + b\nprint(\"The sum of\", a, \"and\", b, \"is:\", sum)\n",
      "metadata": {
        "trusted": true,
        "jupyter": {
          "source_hidden": true
        }
      },
      "outputs": [
        {
          "name": "stdout",
          "text": "The multiplication of 10 and 6 is: 60\nThe sum of 10 and 6 is: 16\n",
          "output_type": "stream"
        }
      ],
      "execution_count": 5
    },
    {
      "cell_type": "code",
      "source": "# Exercise 9 – Create a code cell to convert minutes to hours.\n# Define the number of minutes\nminutes = 150\n\n# Convert minutes to hours\nhours = minutes / 60\n\n# Print the result\nprint(minutes, \"minutes are\", hours, \"hours\")",
      "metadata": {
        "trusted": true,
        "jupyter": {
          "source_hidden": true
        }
      },
      "outputs": [
        {
          "name": "stdout",
          "text": "150 minutes are 2.5 hours\n",
          "output_type": "stream"
        }
      ],
      "execution_count": 6
    },
    {
      "cell_type": "code",
      "source": "# Exercise 10 -Insert a code cell to list Objectives\n# Define a list of goals\ngoals = [\n    \"Learn the basic concepts of Python\",\n    \"Familiarize yourself with Jupyter Notebooks\",\n    \"Understand key data science libraries\",\n    \"Perform simple data analysis\",\n    \"Visualize data effectively\",\n    \"Pass my data science course\"\n]\n\n# Print the list of goals\nprint(\"List of Goals:\")\nfor i, goal in enumerate(goals, 1):\n    print(f\"{i}. {goal}\")",
      "metadata": {
        "trusted": true,
        "jupyter": {
          "source_hidden": true
        }
      },
      "outputs": [
        {
          "name": "stdout",
          "text": "List of Goals:\n1. Learn the basic concepts of Python\n2. Familiarize yourself with Jupyter Notebooks\n3. Understand key data science libraries\n4. Perform simple data analysis\n5. Visualize data effectively\n6. Pass my data science course\n",
          "output_type": "stream"
        }
      ],
      "execution_count": 9
    },
    {
      "cell_type": "markdown",
      "source": "# Exercise 11 - Create a markdown cell to indicate the Author name\n## Author's name\n\n**Author**: [Lakshmi Holla]\n**Author**: [Niveditha Pandith]",
      "metadata": {
        "jupyter": {
          "source_hidden": true
        }
      }
    },
    {
      "cell_type": "code",
      "source": "#Exercise 12 – Share your notebook via GitHub",
      "metadata": {
        "trusted": true,
        "jupyter": {
          "source_hidden": true
        }
      },
      "outputs": [],
      "execution_count": null
    },
    {
      "cell_type": "code",
      "source": "# Exercise 13 – Take a screenshot of the first page of the notebook",
      "metadata": {
        "trusted": true,
        "jupyter": {
          "source_hidden": true
        }
      },
      "outputs": [],
      "execution_count": null
    },
    {
      "cell_type": "code",
      "source": "",
      "metadata": {
        "trusted": true
      },
      "outputs": [],
      "execution_count": null
    }
  ]
}